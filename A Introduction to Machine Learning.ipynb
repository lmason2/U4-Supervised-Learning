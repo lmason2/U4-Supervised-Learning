{
 "cells": [
  {
   "cell_type": "markdown",
   "metadata": {},
   "source": [
    "# [CPSC 322](https://github.com/GonzagaCPSC322) Data Science Algorithms\n",
    "[Gonzaga University](https://www.gonzaga.edu/)\n",
    "\n",
    "[Gina Sprint](http://cs.gonzaga.edu/faculty/sprint/)\n",
    "\n",
    "# Introduction to Machine Learning\n",
    "What are our learning objectives for this lesson?\n",
    "* Understand what machine learning is\n",
    "* Revisit the concept of labelled and unlabelled data\n",
    "* Understand the difference between supervised and unsupervised machine learning\n",
    "* Understand the difference between classification and regression\n",
    "\n",
    "Content used in this lesson is based upon information in the following sources:\n",
    "* Dr. Shawn Bowers' Data Mining notes"
   ]
  },
  {
   "cell_type": "markdown",
   "metadata": {},
   "source": [
    "## Machine Learning\n",
    "At a high level, machine learning is building and using models that are learned from data. Machine learning is a subset of artificial intelligence, and it greatly overlaps with data mining. Let's see the \"unofficial\" definitions for these areas from Wikipedia:\n",
    "* [Data mining](https://en.wikipedia.org/wiki/Data_mining): The computational process of discovering patterns in large data sets involving methods at the intersection of artificial intelligence, machine learning, statistics, and database systems. It is an interdisciplinary subfield of computer science. The overall goal of the data mining process is to extract information from a data set and transform it into an understandable structure for further use.\n",
    "    * Take away point: Discovering and using patterns in data\n",
    "* [Artificial intelligence](https://en.wikipedia.org/wiki/Artificial_intelligence): The study of \"intelligent agents\": any device that perceives its environment and takes actions that maximize its chance of success at some goal. Colloquially, the term \"artificial intelligence\" is applied when a machine mimics \"cognitive\" functions that humans associate with other human minds, such as \"learning\" and \"problem solving\" (known as Machine Learning).\n",
    "    * Take away point: Implementing human-cognition on a machine\n",
    "* [Machine learning](https://en.wikipedia.org/wiki/Machine_learning): The subfield of computer science that, according to Arthur Samuel in 1959, gives \"computers the ability to learn without being explicitly programmed.\" Evolved from the study of pattern recognition and computational learning theory in artificial intelligence, machine learning explores the study and construction of algorithms that can learn from and make predictions on data – such algorithms overcome following strictly static program instructions by making data driven predictions or decisions, through building a model from sample inputs.\n",
    "    * Take away point: Learning from and making predictions on data"
   ]
  },
  {
   "cell_type": "markdown",
   "metadata": {},
   "source": [
    "## Supervised Learning\n",
    "Supervised learning requires \"labeled\" training data from a \"supervisor.\" Such labels are considered the ground-truth for describing the data. The label comes from a knowledgeable expert and can be used to learn what information describes different labels.\n",
    "* If the labeled attribute is categorical, then the learning task is called \"classification\"\n",
    "* If the labeled attribute is continuous, then the learning task is called \"regression\"\n",
    "\n",
    "Supervised learning is typically composed of training and testing. We will train a machine (AKA a student, learner, mathematical model) to learn a concept. Then we will test the machine's learned concept by applying their knowledge.\n",
    "\n",
    "<img src=\"https://upload.wikimedia.org/wikipedia/commons/thumb/0/09/Supervised_machine_learning_in_a_nutshell.svg/2000px-Supervised_machine_learning_in_a_nutshell.svg.png\" width=\"650\">\n",
    "\n",
    "(image from [https://upload.wikimedia.org/wikipedia/commons/thumb/0/09/Supervised_machine_learning_in_a_nutshell.svg/2000px-Supervised_machine_learning_in_a_nutshell.svg.png](https://upload.wikimedia.org/wikipedia/commons/thumb/0/09/Supervised_machine_learning_in_a_nutshell.svg/2000px-Supervised_machine_learning_in_a_nutshell.svg.png))\n",
    "\n",
    "### Training\n",
    "As an example, suppose you are trying to teach someone (say a student) who has no notion of a cat or dog, the concept of cat vs. dog. You might first show the student some pictures of cats and say, \"these are cats\". Then you might show the person some pictures of dogs and say, \"these are dogs\". The set of cat and dog images is called the *training set*, a set of labeled examples (e.g. *instances*). For example, consider the following cat vs. dog training set:\n",
    "\n",
    "<img src=\"https://raw.githubusercontent.com/GonzagaCPSC322/U4-Supervised-Learning/figures/cat_dog_training.png\" width=\"500\"/>\n",
    "\n",
    "The student is going to look at different attributes of the image to try to learn a model of cat and a model of a dog. In doing so, the student will identify some aspects (AKA *attributes* or *features*) of the examples that distinguish a cat vs a dog. The features might include:\n",
    "\n",
    "|Feature|Cat value|Dog value|\n",
    "|-|-|-|\n",
    "|Tongue out|No|Yes|\n",
    "|Fur color|Light|Dark|\n",
    "|Ears up|Yes|No|\n",
    "\n",
    "What other features did you come up with?\n",
    "\n",
    "#### Building a Model\n",
    "A model to represent cat vs. dog based on these features might be rule-based:\n",
    "\n",
    ">if tongue is out and the fur is dark and the ears are down then this is a dog\n",
    "\n",
    "We will see later how we can use a tree with a rules (like the above) as a model to represent a classification such as dog vs. cat!\n",
    "\n",
    "### Testing\n",
    "Now, suppose we want to apply the student's learned conception of dog vs. cat by providing the student with a new, unseen example:\n",
    "\n",
    "<img src=\"https://raw.githubusercontent.com/GonzagaCPSC322/U4-Supervised-Learning/figures/cat_or_dog.png\" width=\"150\"/>\n",
    "\n",
    "Based on the above features, this image has the tongue out (dog), light fur color (cat), and ears up (cat). Thus our student would likely classify this image as a cat. But wait! We (the expert supervisors) know this is a dog (a puppy, but a dog none the less). Our training set didn't include any images that were as borderline cat/dog as this testing example. As you can see, the examples that comprise your training set and the features that are utilized greatly impact the accuracy of the learner, and consequently the model that is built. "
   ]
  },
  {
   "cell_type": "markdown",
   "metadata": {},
   "source": [
    "### Classification and Regression\n",
    "The basic of idea of classification is:\n",
    "* Given a data set (samples) and a new, unclassified instance\n",
    "* Try to predict its classification (based on samples)\n",
    "\n",
    "Note regression can be used in a similar way ... Let's say we have: $y = mx + b$\n",
    "\n",
    "Q: How do we use this on a new instance?\n",
    "* Predict a new $y'$ value from a new, unseen instance $x_{unseen}$ by calculating $y' = mx_{unseen} + b$\n",
    "\n",
    "Approaches we will look at to classification\n",
    "* k Nearest Neighbor (k-NN)... find \"close cases\"\n",
    "* Naive Bayes... select \"most probable\" class for instance\n",
    "* Decision Tree Induction... find \"general\" rules based on entropy\n",
    "* Ensemble Methods... use many approaches to find best class (hybrid)\n",
    "\n",
    "We'll also look at ways to evaluate classification results\n",
    "* These largely involve splitting up a data set into training and testing sets\n",
    "* Plus some basic statistics/metrics for accuracy, error"
   ]
  },
  {
   "cell_type": "markdown",
   "metadata": {},
   "source": [
    "## Unsupervised Learning\n",
    "Unsupervised learning does not require labeled training data. Information learned from the examples is data-driven and includes the process of discovering and describing patterns in the data. \n",
    "\n",
    "For example, to apply unsupervised learning to our cat vs. dog example, we would not try to \"train\" our student to learn the notion of \"cat\" or \"dog\". Instead, we would have our student look for patterns in the data, or perhaps a natural grouping. \n",
    "\n",
    "Here are our cat-dog training examples sorted in order based on the feature fur color:\n",
    "\n",
    "<img src=\"https://raw.githubusercontent.com/GonzagaCPSC322/U4-Supervised-Learning/figures/cat_dog_fur_ordering.png\" width=\"500\"/>\n",
    "\n",
    "We could apply a clustering algorithm, such as $k$-means clustering, to the data to reveal two natural groups in the data ($k = 2$):\n",
    "\n",
    "<img src=\"https://raw.githubusercontent.com/GonzagaCPSC322/U4-Supervised-Learning/figures/cat_dog_grouping.png\" width=\"500\"/>\n",
    "\n",
    "Note that these two groups, blue and red, are not representative of cat and dog, since we have no cat/dog labels!\n",
    "\n",
    "Now, upon seeing a new instance, we can determine the new instance's membership to either the blue group or the red group:\n",
    "\n",
    "<img src=\"https://raw.githubusercontent.com/GonzagaCPSC322/U4-Supervised-Learning/figures/cat_dog_membership.png\" width=\"500\"/>\n",
    "\n",
    "Like supervised machine learning, there are several unsupervised machine learning algorithms."
   ]
  }
 ],
 "metadata": {
  "anaconda-cloud": {},
  "kernelspec": {
   "display_name": "Python 3",
   "language": "python",
   "name": "python3"
  },
  "language_info": {
   "codemirror_mode": {
    "name": "ipython",
    "version": 3
   },
   "file_extension": ".py",
   "mimetype": "text/x-python",
   "name": "python",
   "nbconvert_exporter": "python",
   "pygments_lexer": "ipython3",
   "version": "3.8.5"
  }
 },
 "nbformat": 4,
 "nbformat_minor": 4
}
